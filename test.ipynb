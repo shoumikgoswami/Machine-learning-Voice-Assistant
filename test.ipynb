{
 "cells": [
  {
   "cell_type": "code",
   "execution_count": 27,
   "metadata": {},
   "outputs": [],
   "source": [
    "import pandas as pd\n",
    "from wit import Wit\n",
    "import numpy as np"
   ]
  },
  {
   "cell_type": "code",
   "execution_count": 29,
   "metadata": {},
   "outputs": [],
   "source": [
    "from wit import Wit\n",
    "\n",
    "''' Code List\n",
    "\n",
    "Upload data = 1U\n",
    "Describe data = 2D\n",
    "Clean data = 3C\n",
    "Features = 4F\n",
    "Visualize = 5V\n",
    "Build model = 6B\n",
    "\n",
    "Models - \n",
    "logistic regression\n",
    "knn classifier\n",
    "decision tree classifier\n",
    "gaussian nb\n",
    "svm classifier\n",
    "\n",
    "'''\n",
    "\n",
    "def get_intent(text):\n",
    "\tclient = Wit('UXH7HZWOS3WUFCZHOH3WYDUSM3ZIJG26')\n",
    "\tintent = client.message(text)\n",
    "\ttry:\n",
    "\t\tif ('model' in intent['entities'].keys()) & ('intent' in intent['entities'].keys()):\n",
    "\t\t\tcommand_type, model_type = intent['entities']['intent'][0]['value'], intent['entities']['model'][0]['value']\n",
    "\t\telif ('model' in intent['entities'].keys()) & ('intent' not in intent['entities'].keys()):\n",
    "\t\t\tcommand_type, model_type = 0, intent['entities']['model'][0]['value']\n",
    "\t\telif ('bye' in intent['entities'].keys()) & ('intent' not in intent['entities'].keys()):\n",
    "\t\t\tcommand_type, model_type = intent['entities']['bye'][0]['value'], 0\n",
    "\t\telif ('explore' in intent['entities'].keys()) & ('intent' not in intent['entities'].keys()):\n",
    "\t\t\texplore_type =  intent['entities']['explore'][0]['value']\n",
    "\t\t\tif ('number' in intent['entities'].keys()):\n",
    "\t\t\t\trow_num = intent['entities']['number'][0]['value']\n",
    "\t\t\telse:\n",
    "\t\t\t\trow_num = 0\n",
    "\t\t\tcommand_type = ''\n",
    "\t\t\tmodel_type = ''\n",
    "\t\telse:\n",
    "\t\t\tcommand_type, model_type = intent['entities']['intent'][0]['value'], 0\n",
    "\texcept:\n",
    "\t\treturn 'error'\n",
    "\tif command_type == 'upload data':\n",
    "\t\tcmd = '1U'\n",
    "\telif command_type == 'describe data':\n",
    "\t\tcmd = '2D'\n",
    "\telif command_type == 'clean data':\n",
    "\t\tcmd = '3C'\n",
    "\telif command_type == 'features':\n",
    "\t\tcmd = '4F'\n",
    "\telif command_type == 'visualize':\n",
    "\t\tcmd = '5V'\n",
    "\telif command_type == 'build model':\n",
    "\t\tcmd = '6B'\n",
    "\telif command_type == 'data exploration':\n",
    "\t\tcmd = '7E'\n",
    "\telif model_type != 0:\n",
    "\t\tcmd = 'model'\n",
    "\telif command_type == 'true':\n",
    "\t\tcmd = 'bye'\n",
    "\telse:\n",
    "\t\tcmd = 'error'\n",
    "\tif model_type == 'logistic regression':\n",
    "\t\tmodel_type = 'LR'\n",
    "\telif model_type == 'knn classifier':\n",
    "\t\tmodel_type = 'KNN'\n",
    "\telif model_type == 'decision tree classifier':\n",
    "\t\tmodel_type = 'CART'\n",
    "\telif model_type == 'gaussian nb':\n",
    "\t\tmodel_type = 'NB'\n",
    "\telif model_type == 'svm classifier':\n",
    "\t\tmodel_type = 'SVC'\n",
    "\telse:\n",
    "\t\tmodel_type = 0\n",
    "\tif len(command_type)>0:\n",
    "\t\treturn cmd, model_type\n",
    "\telif (len(explore_type)>0) & (len(command_type)==0):\n",
    "\t\treturn explore_type, row_num\n"
   ]
  },
  {
   "cell_type": "code",
   "execution_count": 26,
   "metadata": {},
   "outputs": [],
   "source": [
    "def get_cmd(mode):\n",
    "\tif mode == 'TEXT':\n",
    "\t\ttext =  get_text(mode)\n",
    "\t\tcmd, cmd_2 = get_intent(text)\n",
    "        if \n",
    "\t\t\tprint(\"Unable to recognize command, please share your intent again\")\n",
    "\t\t\tget_cmd(mode)\n",
    "\t\tif len(cmd_2)==0:\n",
    "\t\t\treturn cmd\n",
    "\t\telse:\n",
    "\t\t\treturn cmd, cmd_2"
   ]
  },
  {
   "cell_type": "code",
   "execution_count": 30,
   "metadata": {},
   "outputs": [
    {
     "ename": "KeyError",
     "evalue": "'intent'",
     "output_type": "error",
     "traceback": [
      "\u001b[1;31m---------------------------------------------------------------------------\u001b[0m",
      "\u001b[1;31mKeyError\u001b[0m                                  Traceback (most recent call last)",
      "\u001b[1;32m<ipython-input-30-95badd9314ec>\u001b[0m in \u001b[0;36m<module>\u001b[1;34m\u001b[0m\n\u001b[1;32m----> 1\u001b[1;33m \u001b[0mget_intent\u001b[0m\u001b[1;33m(\u001b[0m\u001b[1;34m'hi'\u001b[0m\u001b[1;33m)\u001b[0m\u001b[1;33m\u001b[0m\u001b[1;33m\u001b[0m\u001b[0m\n\u001b[0m",
      "\u001b[1;32m<ipython-input-29-768df8eb7d1c>\u001b[0m in \u001b[0;36mget_intent\u001b[1;34m(text)\u001b[0m\n\u001b[0;32m     38\u001b[0m                 \u001b[0mmodel_type\u001b[0m \u001b[1;33m=\u001b[0m \u001b[1;34m''\u001b[0m\u001b[1;33m\u001b[0m\u001b[1;33m\u001b[0m\u001b[0m\n\u001b[0;32m     39\u001b[0m         \u001b[1;32melse\u001b[0m\u001b[1;33m:\u001b[0m\u001b[1;33m\u001b[0m\u001b[1;33m\u001b[0m\u001b[0m\n\u001b[1;32m---> 40\u001b[1;33m                 \u001b[0mcommand_type\u001b[0m\u001b[1;33m,\u001b[0m \u001b[0mmodel_type\u001b[0m \u001b[1;33m=\u001b[0m \u001b[0mintent\u001b[0m\u001b[1;33m[\u001b[0m\u001b[1;34m'entities'\u001b[0m\u001b[1;33m]\u001b[0m\u001b[1;33m[\u001b[0m\u001b[1;34m'intent'\u001b[0m\u001b[1;33m]\u001b[0m\u001b[1;33m[\u001b[0m\u001b[1;36m0\u001b[0m\u001b[1;33m]\u001b[0m\u001b[1;33m[\u001b[0m\u001b[1;34m'value'\u001b[0m\u001b[1;33m]\u001b[0m\u001b[1;33m,\u001b[0m \u001b[1;36m0\u001b[0m\u001b[1;33m\u001b[0m\u001b[1;33m\u001b[0m\u001b[0m\n\u001b[0m\u001b[0;32m     41\u001b[0m         \u001b[1;32mif\u001b[0m \u001b[0mcommand_type\u001b[0m \u001b[1;33m==\u001b[0m \u001b[1;34m'upload data'\u001b[0m\u001b[1;33m:\u001b[0m\u001b[1;33m\u001b[0m\u001b[1;33m\u001b[0m\u001b[0m\n\u001b[0;32m     42\u001b[0m                 \u001b[0mcmd\u001b[0m \u001b[1;33m=\u001b[0m \u001b[1;34m'1U'\u001b[0m\u001b[1;33m\u001b[0m\u001b[1;33m\u001b[0m\u001b[0m\n",
      "\u001b[1;31mKeyError\u001b[0m: 'intent'"
     ]
    }
   ],
   "source": [
    "get_intent('hi')"
   ]
  },
  {
   "cell_type": "code",
   "execution_count": 22,
   "metadata": {},
   "outputs": [
    {
     "name": "stdout",
     "output_type": "stream",
     "text": [
      "Unable to recognize command, please share your intent again\n"
     ]
    }
   ],
   "source": [
    "get_cmd('TEXT','hi')"
   ]
  },
  {
   "cell_type": "code",
   "execution_count": 22,
   "metadata": {},
   "outputs": [],
   "source": [
    "data = pd.read_csv('sample data/Iris.csv')"
   ]
  },
  {
   "cell_type": "code",
   "execution_count": 7,
   "metadata": {},
   "outputs": [
    {
     "data": {
      "text/html": [
       "<div>\n",
       "<style scoped>\n",
       "    .dataframe tbody tr th:only-of-type {\n",
       "        vertical-align: middle;\n",
       "    }\n",
       "\n",
       "    .dataframe tbody tr th {\n",
       "        vertical-align: top;\n",
       "    }\n",
       "\n",
       "    .dataframe thead th {\n",
       "        text-align: right;\n",
       "    }\n",
       "</style>\n",
       "<table border=\"1\" class=\"dataframe\">\n",
       "  <thead>\n",
       "    <tr style=\"text-align: right;\">\n",
       "      <th></th>\n",
       "      <th>Id</th>\n",
       "      <th>SepalLengthCm</th>\n",
       "      <th>SepalWidthCm</th>\n",
       "      <th>PetalLengthCm</th>\n",
       "      <th>PetalWidthCm</th>\n",
       "      <th>Species</th>\n",
       "    </tr>\n",
       "  </thead>\n",
       "  <tbody>\n",
       "    <tr>\n",
       "      <th>0</th>\n",
       "      <td>1</td>\n",
       "      <td>5.1</td>\n",
       "      <td>3.5</td>\n",
       "      <td>1.4</td>\n",
       "      <td>0.2</td>\n",
       "      <td>Iris-setosa</td>\n",
       "    </tr>\n",
       "    <tr>\n",
       "      <th>1</th>\n",
       "      <td>2</td>\n",
       "      <td>4.9</td>\n",
       "      <td>3.0</td>\n",
       "      <td>1.4</td>\n",
       "      <td>0.2</td>\n",
       "      <td>Iris-setosa</td>\n",
       "    </tr>\n",
       "    <tr>\n",
       "      <th>2</th>\n",
       "      <td>3</td>\n",
       "      <td>4.7</td>\n",
       "      <td>3.2</td>\n",
       "      <td>1.3</td>\n",
       "      <td>0.2</td>\n",
       "      <td>Iris-setosa</td>\n",
       "    </tr>\n",
       "    <tr>\n",
       "      <th>3</th>\n",
       "      <td>4</td>\n",
       "      <td>4.6</td>\n",
       "      <td>3.1</td>\n",
       "      <td>1.5</td>\n",
       "      <td>0.2</td>\n",
       "      <td>Iris-setosa</td>\n",
       "    </tr>\n",
       "    <tr>\n",
       "      <th>4</th>\n",
       "      <td>5</td>\n",
       "      <td>5.0</td>\n",
       "      <td>3.6</td>\n",
       "      <td>1.4</td>\n",
       "      <td>0.2</td>\n",
       "      <td>Iris-setosa</td>\n",
       "    </tr>\n",
       "  </tbody>\n",
       "</table>\n",
       "</div>"
      ],
      "text/plain": [
       "   Id  SepalLengthCm  SepalWidthCm  PetalLengthCm  PetalWidthCm      Species\n",
       "0   1            5.1           3.5            1.4           0.2  Iris-setosa\n",
       "1   2            4.9           3.0            1.4           0.2  Iris-setosa\n",
       "2   3            4.7           3.2            1.3           0.2  Iris-setosa\n",
       "3   4            4.6           3.1            1.5           0.2  Iris-setosa\n",
       "4   5            5.0           3.6            1.4           0.2  Iris-setosa"
      ]
     },
     "execution_count": 7,
     "metadata": {},
     "output_type": "execute_result"
    }
   ],
   "source": [
    "data.head()"
   ]
  },
  {
   "cell_type": "code",
   "execution_count": 23,
   "metadata": {},
   "outputs": [
    {
     "data": {
      "text/plain": [
       "'SepalLengthCm'"
      ]
     },
     "execution_count": 23,
     "metadata": {},
     "output_type": "execute_result"
    }
   ],
   "source": [
    "data['SepalLengthCm'].name"
   ]
  },
  {
   "cell_type": "code",
   "execution_count": 24,
   "metadata": {},
   "outputs": [],
   "source": [
    "def overlaid_histogram(data1, data2, data1_color=\"#539caf\", data2_color=\"#7663b0\"):\n",
    "\t# Set the bounds for the bins so that the two distributions are fairly compared\n",
    "\tx_label = data1.name\n",
    "\ty_label = data2.name\n",
    "\tmax_nbins = 10\n",
    "\tn_bins = 0\n",
    "\tdata_range = [min(min(data1), min(data2)), max(max(data1), max(data2))]\n",
    "\tbinwidth = (data_range[1] - data_range[0]) / max_nbins\n",
    "\n",
    "\tif n_bins == 0:\n",
    "\t\tbins = np.arange(data_range[0], data_range[1] + binwidth, binwidth)\n",
    "\telse: \n",
    "\t\tbins = n_bins\n",
    "\n",
    "\t# Create the plot\n",
    "\t_, ax = plt.subplots()\n",
    "\tax.hist(data1, bins = bins, color = data1_color, alpha = 1, label = x_label)\n",
    "\tax.hist(data2, bins = bins, color = data2_color, alpha = 0.75, label = y_label)\n",
    "\tax.set_ylabel(y_label)\n",
    "\tax.set_xlabel(x_label)\n",
    "\tax.set_title('Overlaid Histogram')\n",
    "\tax.legend(loc = 'best')\n",
    "\tplt.show()"
   ]
  },
  {
   "cell_type": "code",
   "execution_count": 28,
   "metadata": {},
   "outputs": [
    {
     "ename": "NameError",
     "evalue": "name 'plt' is not defined",
     "output_type": "error",
     "traceback": [
      "\u001b[1;31m---------------------------------------------------------------------------\u001b[0m",
      "\u001b[1;31mNameError\u001b[0m                                 Traceback (most recent call last)",
      "\u001b[1;32m<ipython-input-28-cc1ccfc1cb10>\u001b[0m in \u001b[0;36m<module>\u001b[1;34m\u001b[0m\n\u001b[1;32m----> 1\u001b[1;33m \u001b[0moverlaid_histogram\u001b[0m\u001b[1;33m(\u001b[0m\u001b[0mdata\u001b[0m\u001b[1;33m[\u001b[0m\u001b[1;34m'SepalWidthCm'\u001b[0m\u001b[1;33m]\u001b[0m\u001b[1;33m,\u001b[0m \u001b[0mdata\u001b[0m\u001b[1;33m[\u001b[0m\u001b[1;34m'SepalLengthCm'\u001b[0m\u001b[1;33m]\u001b[0m\u001b[1;33m)\u001b[0m\u001b[1;33m\u001b[0m\u001b[1;33m\u001b[0m\u001b[0m\n\u001b[0m",
      "\u001b[1;32m<ipython-input-24-168c2a1e82fd>\u001b[0m in \u001b[0;36moverlaid_histogram\u001b[1;34m(data1, data2, data1_color, data2_color)\u001b[0m\n\u001b[0;32m     14\u001b[0m \u001b[1;33m\u001b[0m\u001b[0m\n\u001b[0;32m     15\u001b[0m         \u001b[1;31m# Create the plot\u001b[0m\u001b[1;33m\u001b[0m\u001b[1;33m\u001b[0m\u001b[1;33m\u001b[0m\u001b[0m\n\u001b[1;32m---> 16\u001b[1;33m         \u001b[0m_\u001b[0m\u001b[1;33m,\u001b[0m \u001b[0max\u001b[0m \u001b[1;33m=\u001b[0m \u001b[0mplt\u001b[0m\u001b[1;33m.\u001b[0m\u001b[0msubplots\u001b[0m\u001b[1;33m(\u001b[0m\u001b[1;33m)\u001b[0m\u001b[1;33m\u001b[0m\u001b[1;33m\u001b[0m\u001b[0m\n\u001b[0m\u001b[0;32m     17\u001b[0m         \u001b[0max\u001b[0m\u001b[1;33m.\u001b[0m\u001b[0mhist\u001b[0m\u001b[1;33m(\u001b[0m\u001b[0mdata1\u001b[0m\u001b[1;33m,\u001b[0m \u001b[0mbins\u001b[0m \u001b[1;33m=\u001b[0m \u001b[0mbins\u001b[0m\u001b[1;33m,\u001b[0m \u001b[0mcolor\u001b[0m \u001b[1;33m=\u001b[0m \u001b[0mdata1_color\u001b[0m\u001b[1;33m,\u001b[0m \u001b[0malpha\u001b[0m \u001b[1;33m=\u001b[0m \u001b[1;36m1\u001b[0m\u001b[1;33m,\u001b[0m \u001b[0mlabel\u001b[0m \u001b[1;33m=\u001b[0m \u001b[0mx_label\u001b[0m\u001b[1;33m)\u001b[0m\u001b[1;33m\u001b[0m\u001b[1;33m\u001b[0m\u001b[0m\n\u001b[0;32m     18\u001b[0m         \u001b[0max\u001b[0m\u001b[1;33m.\u001b[0m\u001b[0mhist\u001b[0m\u001b[1;33m(\u001b[0m\u001b[0mdata2\u001b[0m\u001b[1;33m,\u001b[0m \u001b[0mbins\u001b[0m \u001b[1;33m=\u001b[0m \u001b[0mbins\u001b[0m\u001b[1;33m,\u001b[0m \u001b[0mcolor\u001b[0m \u001b[1;33m=\u001b[0m \u001b[0mdata2_color\u001b[0m\u001b[1;33m,\u001b[0m \u001b[0malpha\u001b[0m \u001b[1;33m=\u001b[0m \u001b[1;36m0.75\u001b[0m\u001b[1;33m,\u001b[0m \u001b[0mlabel\u001b[0m \u001b[1;33m=\u001b[0m \u001b[0my_label\u001b[0m\u001b[1;33m)\u001b[0m\u001b[1;33m\u001b[0m\u001b[1;33m\u001b[0m\u001b[0m\n",
      "\u001b[1;31mNameError\u001b[0m: name 'plt' is not defined"
     ]
    }
   ],
   "source": [
    "overlaid_histogram(data['SepalWidthCm'], data['SepalLengthCm'])"
   ]
  },
  {
   "cell_type": "code",
   "execution_count": 15,
   "metadata": {},
   "outputs": [
    {
     "data": {
      "text/plain": [
       "['Iris-setosa', 'Iris-versicolor', 'Iris-virginica']"
      ]
     },
     "execution_count": 15,
     "metadata": {},
     "output_type": "execute_result"
    }
   ],
   "source": [
    "list(data['Species'].unique())"
   ]
  },
  {
   "cell_type": "code",
   "execution_count": 18,
   "metadata": {},
   "outputs": [],
   "source": [
    "a = 'Hello Whats up'"
   ]
  },
  {
   "cell_type": "code",
   "execution_count": 19,
   "metadata": {},
   "outputs": [
    {
     "data": {
      "text/plain": [
       "'hellowhatsup'"
      ]
     },
     "execution_count": 19,
     "metadata": {},
     "output_type": "execute_result"
    }
   ],
   "source": [
    "a.lower().replace(' ','')"
   ]
  },
  {
   "cell_type": "code",
   "execution_count": 3,
   "metadata": {},
   "outputs": [],
   "source": [
    "import pyttsx3\n",
    "#from bot import get_mode\n",
    "\n",
    "engine = pyttsx3.init()\n",
    "voices = engine.getProperty('voices')\n",
    "engine.setProperty('voice', voices[1].id)\n",
    "volume = engine.getProperty('volume')\n",
    "engine.setProperty('volume', 10.0)\n",
    "rate = engine.getProperty('rate')\n",
    "engine.setProperty('rate', rate - 30)\n",
    "\n",
    "\n",
    "def gen_output(mode, text):\n",
    "\tif mode == 'TEXT':\n",
    "\t\tprint(text)\n",
    "\telif mode == 'VOICE':\n",
    "\t\tengine.say(text)\n",
    "\t\tprint(text)\n",
    "\t\tengine.runAndWait()"
   ]
  },
  {
   "cell_type": "code",
   "execution_count": 4,
   "metadata": {},
   "outputs": [
    {
     "name": "stdout",
     "output_type": "stream",
     "text": [
      "Hi\n"
     ]
    }
   ],
   "source": [
    "gen_output('TEXT', 'Hi')"
   ]
  },
  {
   "cell_type": "code",
   "execution_count": 5,
   "metadata": {},
   "outputs": [
    {
     "name": "stdout",
     "output_type": "stream",
     "text": [
      "Hi\n"
     ]
    }
   ],
   "source": [
    "gen_output('VOICE', 'Hi')"
   ]
  },
  {
   "cell_type": "code",
   "execution_count": 9,
   "metadata": {},
   "outputs": [],
   "source": [
    "user = 'tom'"
   ]
  },
  {
   "cell_type": "code",
   "execution_count": 11,
   "metadata": {},
   "outputs": [
    {
     "name": "stdout",
     "output_type": "stream",
     "text": [
      "Hi tom\n"
     ]
    }
   ],
   "source": [
    "gen_output('VOICE', 'Hi' + ' ' + user)"
   ]
  },
  {
   "cell_type": "code",
   "execution_count": 4,
   "metadata": {},
   "outputs": [],
   "source": [
    "client = Wit('UXH7HZWOS3WUFCZHOH3WYDUSM3ZIJG26')\n",
    "intent = client.message('plot a line graph')"
   ]
  },
  {
   "cell_type": "code",
   "execution_count": 5,
   "metadata": {},
   "outputs": [
    {
     "data": {
      "text/plain": [
       "{'_text': 'plot a line graph',\n",
       " 'entities': {'plot_type': [{'confidence': 0.98669939271007,\n",
       "    'value': 'lineplot'}],\n",
       "  'intent': [{'confidence': 0.99847813260506, 'value': 'visualize'}]},\n",
       " 'msg_id': '1KOZ6tNSkMvhdVwpA'}"
      ]
     },
     "execution_count": 5,
     "metadata": {},
     "output_type": "execute_result"
    }
   ],
   "source": [
    "intent"
   ]
  },
  {
   "cell_type": "code",
   "execution_count": 8,
   "metadata": {},
   "outputs": [
    {
     "data": {
      "text/plain": [
       "'lineplot'"
      ]
     },
     "execution_count": 8,
     "metadata": {},
     "output_type": "execute_result"
    }
   ],
   "source": [
    "intent['entities']['plot_type'][0]['value']"
   ]
  },
  {
   "cell_type": "code",
   "execution_count": 9,
   "metadata": {},
   "outputs": [
    {
     "data": {
      "text/plain": [
       "'visualize'"
      ]
     },
     "execution_count": 9,
     "metadata": {},
     "output_type": "execute_result"
    }
   ],
   "source": [
    "intent['entities']['intent'][0]['value']"
   ]
  },
  {
   "cell_type": "code",
   "execution_count": 16,
   "metadata": {},
   "outputs": [],
   "source": [
    "def get_intent(text):\n",
    "\tclient = Wit('UXH7HZWOS3WUFCZHOH3WYDUSM3ZIJG26')\n",
    "\tintent = client.message(text)\n",
    "\tplot_type = 0\n",
    "\tmodel_type = 0\n",
    "\tif ('model' in intent['entities'].keys()) & ('intent' in intent['entities'].keys()):\n",
    "\t\tcommand_type, model_type = intent['entities']['intent'][0]['value'], intent['entities']['model'][0]['value']\n",
    "\telif ('model' in intent['entities'].keys()) & ('intent' not in intent['entities'].keys()):\n",
    "\t\tcommand_type, model_type = 0, intent['entities']['model'][0]['value']\n",
    "\telif ('plot_type' in intent['entities'].keys()) & ('intent' in intent['entities'].keys()):\n",
    "\t\tcommand_type, plot_type = intent['entities']['intent'][0]['value'], intent['entities']['plot_type'][0]['value']\n",
    "\telif ('plot_type' in intent['entities'].keys()) & ('intent' not in intent['entities'].keys()):\n",
    "\t\tcommand_type, model_type = 0, intent['entities']['plot_type'][0]['value']\n",
    "\telif ('bye' in intent['entities'].keys()) & ('intent' not in intent['entities'].keys()):\n",
    "\t\tcommand_type, model_type = intent['entities']['bye'][0]['value'], 0\n",
    "\telif ('explore' in intent['entities'].keys()) & ('intent' not in intent['entities'].keys()):\n",
    "\t\texplore_type =  intent['entities']['explore'][0]['value']\n",
    "\t\tif ('number' in intent['entities'].keys()):\n",
    "\t\t\trow_num = intent['entities']['number'][0]['value']\n",
    "\t\telse:\n",
    "\t\t\trow_num = 0\n",
    "\t\tcommand_type = ''\n",
    "\t\tmodel_type = ''\n",
    "\t\tplot_type = ''\n",
    "\telse:\n",
    "\t\tcommand_type, model_type = intent['entities']['intent'][0]['value'], 0\n",
    "\tif command_type == 'upload data':\n",
    "\t\tcmd = '1U'\n",
    "\telif command_type == 'describe data':\n",
    "\t\tcmd = '2D'\n",
    "\telif command_type == 'clean data':\n",
    "\t\tcmd = '3C'\n",
    "\telif command_type == 'features':\n",
    "\t\tcmd = '4F'\n",
    "\telif command_type == 'visualize':\n",
    "\t\tcmd = '5V'\n",
    "\telif command_type == 'build model':\n",
    "\t\tcmd = '6B'\n",
    "\telif command_type == 'data exploration':\n",
    "\t\tcmd = '7E'\n",
    "\telif model_type != 0:\n",
    "\t\tcmd = 'model'\n",
    "\telif plot_type != 0:\n",
    "\t\tcmd = 'plot'    \n",
    "\telif command_type == 'true':\n",
    "\t\tcmd = 'bye'\n",
    "\telse:\n",
    "\t\tcmd = 'error'\n",
    "\tif model_type == 'logistic regression':\n",
    "\t\tmodel_type = 'LR'\n",
    "\telif model_type == 'knn classifier':\n",
    "\t\tmodel_type = 'KNN'\n",
    "\telif model_type == 'decision tree classifier':\n",
    "\t\tmodel_type = 'CART'\n",
    "\telif model_type == 'gaussian nb':\n",
    "\t\tmodel_type = 'NB'\n",
    "\telif model_type == 'svm classifier':\n",
    "\t\tmodel_type = 'SVC'\n",
    "\telse:\n",
    "\t\tmodel_type = 0\n",
    "\t\n",
    "\tif len(command_type)>0:\n",
    "\t\tif (model_type == 0) & (plot_type == 0):\n",
    "\t\t\treturn cmd\n",
    "\t\telif (model_type != 0) & (plot_type == 0):\n",
    "\t\t\treturn cmd, model_type\n",
    "\t\telif (model_type == 0) & (plot_type != 0):\n",
    "\t\t\treturn cmd, plot_type\n",
    "\telif (len(explore_type)>0) & (len(command_type)==0):\n",
    "\t\treturn explore_type, row_num"
   ]
  },
  {
   "cell_type": "code",
   "execution_count": 21,
   "metadata": {},
   "outputs": [
    {
     "data": {
      "text/plain": [
       "('head', 5)"
      ]
     },
     "execution_count": 21,
     "metadata": {},
     "output_type": "execute_result"
    }
   ],
   "source": [
    "get_intent('show me top 5 rows')"
   ]
  },
  {
   "cell_type": "code",
   "execution_count": 32,
   "metadata": {},
   "outputs": [
    {
     "name": "stdout",
     "output_type": "stream",
     "text": [
      "Id\n",
      "SepalLengthCm\n",
      "SepalWidthCm\n",
      "PetalLengthCm\n",
      "PetalWidthCm\n"
     ]
    }
   ],
   "source": [
    "for col in data.columns.values:\n",
    "    if data[col].dtype!='object':\n",
    "        print(col)"
   ]
  }
 ],
 "metadata": {
  "kernelspec": {
   "display_name": "Python 3",
   "language": "python",
   "name": "python3"
  },
  "language_info": {
   "codemirror_mode": {
    "name": "ipython",
    "version": 3
   },
   "file_extension": ".py",
   "mimetype": "text/x-python",
   "name": "python",
   "nbconvert_exporter": "python",
   "pygments_lexer": "ipython3",
   "version": "3.7.1"
  }
 },
 "nbformat": 4,
 "nbformat_minor": 2
}
